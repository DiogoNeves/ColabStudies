{
  "nbformat": 4,
  "nbformat_minor": 0,
  "metadata": {
    "colab": {
      "provenance": [],
      "authorship_tag": "ABX9TyO1G4yMvwbbC8JN0TDr/0U+",
      "include_colab_link": true
    },
    "kernelspec": {
      "name": "python3",
      "display_name": "Python 3"
    },
    "language_info": {
      "name": "python"
    }
  },
  "cells": [
    {
      "cell_type": "markdown",
      "metadata": {
        "id": "view-in-github",
        "colab_type": "text"
      },
      "source": [
        "<a href=\"https://colab.research.google.com/github/DiogoNeves/ColabStudies/blob/main/GitHub_PR_AI_Study.ipynb\" target=\"_parent\"><img src=\"https://colab.research.google.com/assets/colab-badge.svg\" alt=\"Open In Colab\"/></a>"
      ]
    },
    {
      "cell_type": "markdown",
      "source": [
        "# GitHub PR details\n",
        "\n",
        "This Colab explores functionalty to retrieve and summarise GitHub PRs.  \n",
        "\n",
        "I'm studying how to:  \n",
        "* Retrieve a list of PRs since some preseen PR.  \n",
        "* What information is needed to summarise or explain recent changes?  \n",
        "* Does it work with GPT-4?"
      ],
      "metadata": {
        "id": "b2eS_Gf6tiPx"
      }
    },
    {
      "cell_type": "code",
      "execution_count": 1,
      "metadata": {
        "id": "Z2HepCA2tWqu"
      },
      "outputs": [],
      "source": [
        "from google.colab import userdata\n",
        "GITHUB_TOKEN = userdata.get('GITHUB_TOKEN')"
      ]
    },
    {
      "cell_type": "code",
      "source": [],
      "metadata": {
        "id": "l5lWtr9Wwuh2"
      },
      "execution_count": null,
      "outputs": []
    }
  ]
}